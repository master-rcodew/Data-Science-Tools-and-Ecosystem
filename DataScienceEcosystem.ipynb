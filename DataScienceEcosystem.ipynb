{
 "cells": [
  {
   "cell_type": "markdown",
   "id": "fee91493-3f27-49a9-8a0e-571718dfafb1",
   "metadata": {},
   "source": [
    "# Data Science Tools and Ecosystem"
   ]
  },
  {
   "cell_type": "markdown",
   "id": "8a4fa586-ef4f-47d9-9e15-9ed17f47d3b4",
   "metadata": {},
   "source": [
    "In this notebook, Data Science Tools and Ecosystem are summarized."
   ]
  },
  {
   "cell_type": "markdown",
   "id": "1a50b960-c3fb-430b-a1bf-37979ba5ee76",
   "metadata": {},
   "source": [
    "**Objectives:**"
   ]
  },
  {
   "cell_type": "markdown",
   "id": "fea628ba-3647-4b50-89eb-0e0a61c8c1c0",
   "metadata": {},
   "source": [
    "- List popular languages for Data Science\n",
    "- List commonly used libraries used by Data Scientists\n",
    "- Comment on Data Science tools"
   ]
  },
  {
   "cell_type": "markdown",
   "id": "9816b329-5c79-4864-b645-b462c94c4d12",
   "metadata": {},
   "source": [
    "Some of the popular languages that Data Scientists use are:"
   ]
  },
  {
   "cell_type": "markdown",
   "id": "a4772d72-98a0-4866-aab7-ef9404389d33",
   "metadata": {},
   "source": [
    "1. Python\n",
    "2. R:\n",
    "3. SQL"
   ]
  },
  {
   "cell_type": "markdown",
   "id": "e6f5cf9a-5ea1-48e5-ab11-7b1bea93383b",
   "metadata": {},
   "source": [
    "Some of the commonly used libraries used by Data Scientists include:"
   ]
  },
  {
   "cell_type": "markdown",
   "id": "15197cd9-ed92-41bf-ba3c-874b838e0a0a",
   "metadata": {},
   "source": [
    "| Data Science Tools |\n",
    "|:-------------------|\n",
    "|  Jupyter Notebooks |\n",
    "|       RStudio      |\n",
    "|   Apache Zeppelin  |"
   ]
  },
  {
   "cell_type": "markdown",
   "id": "76f0ee09-f73c-478c-832d-879598952043",
   "metadata": {},
   "source": [
    "###  Below are a few examples of evaluating arithmetic expressions in Python"
   ]
  },
  {
   "cell_type": "code",
   "execution_count": 1,
   "id": "17ae4976-1635-422e-9807-35a270f70391",
   "metadata": {
    "tags": []
   },
   "outputs": [
    {
     "data": {
      "text/plain": [
       "17"
      ]
     },
     "execution_count": 1,
     "metadata": {},
     "output_type": "execute_result"
    }
   ],
   "source": [
    "#This a simple arithmetic expression to mutiply then add integers\n",
    "(3*4)+5"
   ]
  },
  {
   "cell_type": "code",
   "execution_count": 9,
   "id": "7faf934a-0be0-46ec-bb24-56a1d9ccbed9",
   "metadata": {
    "tags": []
   },
   "outputs": [
    {
     "name": "stdout",
     "output_type": "stream",
     "text": [
      "3 hours, 20 mins. \n"
     ]
    }
   ],
   "source": [
    "#This will convert 200 minutes to hours by diving by 60\n",
    "hours = 0\n",
    "mins = 0\n",
    "\n",
    "time = 200\n",
    "hours = int(time / 60)\n",
    "mins = time % 60\n",
    "print(str(hours) + \" hours, \" + str(mins) +  \" mins. \")\n"
   ]
  },
  {
   "cell_type": "markdown",
   "id": "241bf7bd-238d-4d99-89fa-cbed411fa0ab",
   "metadata": {},
   "source": [
    "## Author\n",
    "Rich Wilkins"
   ]
  },
  {
   "cell_type": "code",
   "execution_count": null,
   "id": "132598e4-a539-45cb-8141-dc0acd866ecf",
   "metadata": {},
   "outputs": [],
   "source": []
  }
 ],
 "metadata": {
  "kernelspec": {
   "display_name": "Python",
   "language": "python",
   "name": "conda-env-python-py"
  },
  "language_info": {
   "codemirror_mode": {
    "name": "ipython",
    "version": 3
   },
   "file_extension": ".py",
   "mimetype": "text/x-python",
   "name": "python",
   "nbconvert_exporter": "python",
   "pygments_lexer": "ipython3",
   "version": "3.7.12"
  }
 },
 "nbformat": 4,
 "nbformat_minor": 5
}
